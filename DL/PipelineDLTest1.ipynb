{
 "cells": [
  {
   "cell_type": "code",
   "execution_count": 8,
   "metadata": {},
   "outputs": [
    {
     "name": "stdout",
     "output_type": "stream",
     "text": [
      "Defaulting to user installation because normal site-packages is not writeable\n",
      "Collecting torchvision\n",
      "  Downloading torchvision-0.14.0-cp310-cp310-manylinux1_x86_64.whl (24.3 MB)\n",
      "\u001b[2K     \u001b[38;2;114;156;31m━━━━━━━━━━━━━━━━━━━━━━━━━━━━━━━━━━━━━━━━\u001b[0m \u001b[32m24.3/24.3 MB\u001b[0m \u001b[31m45.9 MB/s\u001b[0m eta \u001b[36m0:00:00\u001b[0mm eta \u001b[36m0:00:01\u001b[0m0:01\u001b[0m:01\u001b[0m\n",
      "\u001b[?25hRequirement already satisfied: pillow!=8.3.*,>=5.3.0 in /usr/lib/python3/dist-packages (from torchvision) (9.0.1)\n",
      "Requirement already satisfied: numpy in /usr/local/lib/python3.10/dist-packages/numpy-1.23.4-py3.10-linux-x86_64.egg (from torchvision) (1.23.4)\n",
      "Requirement already satisfied: torch==1.13.0 in /home/emily/.local/lib/python3.10/site-packages (from torchvision) (1.13.0)\n",
      "Requirement already satisfied: requests in /usr/lib/python3/dist-packages (from torchvision) (2.25.1)\n",
      "Requirement already satisfied: typing-extensions in /home/emily/.local/lib/python3.10/site-packages (from torchvision) (4.4.0)\n",
      "Requirement already satisfied: nvidia-cuda-runtime-cu11==11.7.99 in /home/emily/.local/lib/python3.10/site-packages (from torch==1.13.0->torchvision) (11.7.99)\n",
      "Requirement already satisfied: nvidia-cuda-nvrtc-cu11==11.7.99 in /home/emily/.local/lib/python3.10/site-packages (from torch==1.13.0->torchvision) (11.7.99)\n",
      "Requirement already satisfied: nvidia-cudnn-cu11==8.5.0.96 in /home/emily/.local/lib/python3.10/site-packages (from torch==1.13.0->torchvision) (8.5.0.96)\n",
      "Requirement already satisfied: nvidia-cublas-cu11==11.10.3.66 in /home/emily/.local/lib/python3.10/site-packages (from torch==1.13.0->torchvision) (11.10.3.66)\n",
      "Requirement already satisfied: setuptools in /usr/lib/python3/dist-packages (from nvidia-cublas-cu11==11.10.3.66->torch==1.13.0->torchvision) (59.6.0)\n",
      "Requirement already satisfied: wheel in /usr/lib/python3/dist-packages (from nvidia-cublas-cu11==11.10.3.66->torch==1.13.0->torchvision) (0.37.1)\n",
      "Installing collected packages: torchvision\n",
      "Successfully installed torchvision-0.14.0\n"
     ]
    }
   ],
   "source": [
    "#!pip install torchmetrics\n",
    "!pip install torchvision"
   ]
  },
  {
   "cell_type": "code",
   "execution_count": 1,
   "metadata": {
    "scrolled": true
   },
   "outputs": [],
   "source": [
    "import os\n",
    "import cv2\n",
    "import copy\n",
    "import time\n",
    "import torch\n",
    "#import library\n",
    "import torchvision\n",
    "import numpy as np\n",
    "import pandas as pd\n",
    "import torch.nn as nn\n",
    "from os.path import join\n",
    "import torch.optim as optim\n",
    "from torchmetrics import AUROC\n",
    "import torch.utils.data as data\n",
    "from torchmetrics import F1Score\n",
    "from matplotlib import pyplot as plt\n",
    "from torchmetrics.functional import auroc\n",
    "import torchvision.transforms as transforms\n",
    "from torchmetrics.functional import precision_recall"
   ]
  },
  {
   "cell_type": "markdown",
   "metadata": {},
   "source": [
    "## Data"
   ]
  },
  {
   "cell_type": "code",
   "execution_count": 2,
   "metadata": {},
   "outputs": [],
   "source": [
    "RESULTS_DIR = os.path.join('/home',\n",
    "                            'emily',\n",
    "                            'Desktop',\n",
    "                            'CAD',\n",
    "                            'results')\n",
    "\n",
    "\n",
    "DATA_DIR = os.path.join('/home',\n",
    "                        'emily',\n",
    "                        'Desktop',\n",
    "                        'CAD',\n",
    "                        'challenge1')"
   ]
  },
  {
   "cell_type": "code",
   "execution_count": 3,
   "metadata": {},
   "outputs": [
    {
     "data": {
      "text/plain": [
       "True"
      ]
     },
     "execution_count": 3,
     "metadata": {},
     "output_type": "execute_result"
    }
   ],
   "source": [
    "torch.cuda.is_available()"
   ]
  },
  {
   "cell_type": "code",
   "execution_count": 4,
   "metadata": {},
   "outputs": [],
   "source": [
    "# hyperparameters\n",
    "batch_size = 2\n",
    "learning_rate = 0.001\n",
    "epochs = 30\n",
    "momentum = 0.9\n",
    "lr_step_size = 6   # if < epochs, we are using decaying learning rate\n",
    "lr_gamma = 0.1\n",
    "data_augmentation = True\n",
    "dropout = 0.5\n",
    "activation = nn.ReLU()\n",
    "\n",
    "# make visible only one GPU at the time\n",
    "os.environ[\"CUDA_VISIBLE_DEVICES\"] = \"0\"  # <-- should be the ID of the GPU you want to use\n",
    "\n",
    "# options\n",
    "# device = \"cuda:0\"           # put here \"cuda:0\" if you want to run on GPU\n",
    "device = torch.device(\"cuda:0\" if torch.cuda.is_available() else \"cpu\")\n",
    "monitor_display = True      # whether to display monitored performance plots\n",
    "display_first_n = 0         # how many samples/batches are displayed\n",
    "num_workers = 2             # how many workers (=threads) for fetching data\n",
    "pretrained = False          # whether to test a pretrained model (to be loaded) or train a new one\n",
    "display_errors = True       # whether to display errors (only in pretrained mode)"
   ]
  },
  {
   "cell_type": "code",
   "execution_count": 5,
   "metadata": {},
   "outputs": [
    {
     "name": "stderr",
     "output_type": "stream",
     "text": [
      "/home/emily/.local/lib/python3.10/site-packages/torchvision/models/_utils.py:208: UserWarning: The parameter 'pretrained' is deprecated since 0.13 and may be removed in the future, please use 'weights' instead.\n",
      "  warnings.warn(\n",
      "/home/emily/.local/lib/python3.10/site-packages/torchvision/models/_utils.py:223: UserWarning: Arguments other than a weight enum or `None` for 'weights' are deprecated since 0.13 and may be removed in the future. The current behavior is equivalent to passing `weights=ResNet50_Weights.IMAGENET1K_V1`. You can also use `weights=ResNet50_Weights.DEFAULT` to get the most up-to-date weights.\n",
      "  warnings.warn(msg)\n",
      "Downloading: \"https://download.pytorch.org/models/resnet50-0676ba61.pth\" to /home/emily/.cache/torch/hub/checkpoints/resnet50-0676ba61.pth\n",
      "Widget Javascript not detected.  It may not be installed or enabled properly. Reconnecting the current kernel may help.\n"
     ]
    },
    {
     "data": {
      "application/vnd.jupyter.widget-view+json": {
       "model_id": "d6b94a98156742e280f9cd1e5e81e0d1"
      }
     },
     "metadata": {},
     "output_type": "display_data"
    },
    {
     "name": "stdout",
     "output_type": "stream",
     "text": [
      "\n"
     ]
    }
   ],
   "source": [
    "import torchvision.models as models\n",
    "\n",
    "# pretrained resnet 50\n",
    "resnet50 = models.resnet50(pretrained=True)\n",
    "\n",
    "# freezing the first 10 layers\n",
    "ct = 0\n",
    "# model.children() which returns layers.\n",
    "for child in resnet50.children():\n",
    " ct += 1\n",
    " if ct < 3:\n",
    "     for param in child.parameters():\n",
    "      # True means it will be backpropagrated\n",
    "      # to freeze a layer you need to set requires_grad to False for all parameters of a layer. \n",
    "       param.requires_grad = False\n",
    "\n",
    "# change last fully convolutional layer so it returns just 2 classes\n",
    "resnet50.fc = nn.Linear(2048,2)"
   ]
  },
  {
   "cell_type": "markdown",
   "metadata": {},
   "source": [
    "### GENERATING FEATURES"
   ]
  }
 ],
 "metadata": {
  "kernelspec": {
   "display_name": "Python 3 (ipykernel)",
   "language": "python",
   "name": "python3"
  },
  "language_info": {
   "codemirror_mode": {
    "name": "ipython",
    "version": 3
   },
   "file_extension": ".py",
   "mimetype": "text/x-python",
   "name": "python",
   "nbconvert_exporter": "python",
   "pygments_lexer": "ipython3",
   "version": "3.10.6"
  },
  "vscode": {
   "interpreter": {
    "hash": "a8303346cf061856616ea71480663e8efb94f012cfcc13615ad12237b3e78185"
   }
  }
 },
 "nbformat": 4,
 "nbformat_minor": 2
}
