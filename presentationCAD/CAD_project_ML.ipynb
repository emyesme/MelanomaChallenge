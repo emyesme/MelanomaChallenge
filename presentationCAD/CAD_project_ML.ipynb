{
 "cells": [
  {
   "cell_type": "code",
   "execution_count": 1,
   "metadata": {
    "id": "8zfxT85hoa5i"
   },
   "outputs": [],
   "source": [
    "import numpy as np\n",
    "import pandas as pd\n",
    "from collections import Counter"
   ]
  },
  {
   "cell_type": "code",
   "execution_count": 2,
   "metadata": {
    "id": "iMHpmSHqoj0l"
   },
   "outputs": [],
   "source": [
    "import cv2\n",
    "import os\n",
    "import matplotlib.pyplot as plt\n",
    "import numpy as np\n",
    "from scipy.stats import skew, kurtosis\n",
    "# from imblearn.over_sampling import SMOTE\n",
    "from sklearn.model_selection import train_test_split"
   ]
  },
  {
   "cell_type": "code",
   "execution_count": 3,
   "metadata": {
    "colab": {
     "base_uri": "https://localhost:8080/"
    },
    "id": "ZPuoHOzUr620",
    "outputId": "7865a9b9-cb7c-483d-a336-bf4fe6ca72a4"
   },
   "outputs": [],
   "source": [
    "FEAT_DIR = os.path.join('C:\\\\Users\\\\Dell\\\\Desktop\\\\MaIA\\\\Spain\\\\CAD\\\\Project\\\\MelanomaChallenge', \n",
    "                        'features')\n",
    "\n",
    "RESULTS_DIR = os.path.join('C:\\\\Users\\\\Dell\\\\Desktop\\\\MaIA\\\\Spain\\\\CAD',\n",
    "                        'Results')\n",
    "\n",
    "# Read features from the pipeline\n",
    "features_file = 'featuresCh1Train1D'\n",
    "test_file = 'featuresCh1TestD'\n",
    "\n",
    "\n",
    "df_train = pd.read_csv(os.path.join(FEAT_DIR, features_file+'.csv'))\n",
    "df_test = pd.read_csv(os.path.join(FEAT_DIR, test_file+'.csv'))"
   ]
  },
  {
   "cell_type": "code",
   "execution_count": 4,
   "metadata": {
    "colab": {
     "base_uri": "https://localhost:8080/"
    },
    "id": "uoRGmPOGEWJi",
    "outputId": "e0a242ec-24dd-4121-bd24-818196aac43f"
   },
   "outputs": [
    {
     "name": "stdout",
     "output_type": "stream",
     "text": [
      "(14998, 423)\n",
      "(3720, 423)\n"
     ]
    }
   ],
   "source": [
    "print(df_train.shape)\n",
    "print(df_test.shape)"
   ]
  },
  {
   "cell_type": "code",
   "execution_count": 11,
   "metadata": {},
   "outputs": [
    {
     "data": {
      "text/html": [
       "<div>\n",
       "<style scoped>\n",
       "    .dataframe tbody tr th:only-of-type {\n",
       "        vertical-align: middle;\n",
       "    }\n",
       "\n",
       "    .dataframe tbody tr th {\n",
       "        vertical-align: top;\n",
       "    }\n",
       "\n",
       "    .dataframe thead th {\n",
       "        text-align: right;\n",
       "    }\n",
       "</style>\n",
       "<table border=\"1\" class=\"dataframe\">\n",
       "  <thead>\n",
       "    <tr style=\"text-align: right;\">\n",
       "      <th></th>\n",
       "      <th>name</th>\n",
       "      <th>label</th>\n",
       "      <th>rgb_mean_0</th>\n",
       "      <th>rgb_mean_1</th>\n",
       "      <th>rgb_mean_2</th>\n",
       "      <th>rgb_std0</th>\n",
       "      <th>rgb_std1</th>\n",
       "      <th>rgb_std2</th>\n",
       "      <th>rgb_skew0</th>\n",
       "      <th>rgb_skew1</th>\n",
       "      <th>...</th>\n",
       "      <th>lbp_49</th>\n",
       "      <th>lbp_50</th>\n",
       "      <th>lbp_51</th>\n",
       "      <th>lbp_52</th>\n",
       "      <th>lbp_53</th>\n",
       "      <th>lbp_54</th>\n",
       "      <th>lbp_55</th>\n",
       "      <th>lbp_56</th>\n",
       "      <th>lbp_57</th>\n",
       "      <th>lbp_58</th>\n",
       "    </tr>\n",
       "  </thead>\n",
       "  <tbody>\n",
       "  </tbody>\n",
       "</table>\n",
       "<p>0 rows × 423 columns</p>\n",
       "</div>"
      ],
      "text/plain": [
       "Empty DataFrame\n",
       "Columns: [name, label, rgb_mean_0, rgb_mean_1, rgb_mean_2, rgb_std0, rgb_std1, rgb_std2, rgb_skew0, rgb_skew1, rgb_skew2, rgb_kurt0, hsv_mean_0, hsv_mean_1, hsv_mean_2, hsv_std0, hsv_std1, hsv_std2, hsv_skew0, hsv_skew1, hsv_skew2, hsv_kurt0, hsv_kurt1, hsv_kurt2, lab_mean_0, lab_mean_1, lab_mean_2, lab_std0, lab_std1, lab_std2, lab_skew0, lab_skew1, lab_skew2, lab_kurt0, lab_kurt1, lab_kurt2, ycc_mean_0, ycc_mean_1, ycc_mean_2, ycc_std0, ycc_std1, ycc_std2, ycc_skew0, ycc_skew1, ycc_skew2, ycc_kurt0, ycc_kurt1, ycc_kurt2, gray_mean, gray_std, gray_skew, gray_kurt, contrast10.0rgb0, dissimilarity10.0rgb0, homogeneity10.0rgb0, energy10.0rgb0, correlation10.0rgb0, ASM10.0rgb0, contrast145.0rgb0, dissimilarity145.0rgb0, homogeneity145.0rgb0, energy145.0rgb0, correlation145.0rgb0, ASM145.0rgb0, contrast190.0rgb0, dissimilarity190.0rgb0, homogeneity190.0rgb0, energy190.0rgb0, correlation190.0rgb0, ASM190.0rgb0, contrast1135.0rgb0, dissimilarity1135.0rgb0, homogeneity1135.0rgb0, energy1135.0rgb0, correlation1135.0rgb0, ASM1135.0rgb0, contrast10.0rgb1, dissimilarity10.0rgb1, homogeneity10.0rgb1, energy10.0rgb1, correlation10.0rgb1, ASM10.0rgb1, contrast145.0rgb1, dissimilarity145.0rgb1, homogeneity145.0rgb1, energy145.0rgb1, correlation145.0rgb1, ASM145.0rgb1, contrast190.0rgb1, dissimilarity190.0rgb1, homogeneity190.0rgb1, energy190.0rgb1, correlation190.0rgb1, ASM190.0rgb1, contrast1135.0rgb1, dissimilarity1135.0rgb1, homogeneity1135.0rgb1, energy1135.0rgb1, correlation1135.0rgb1, ASM1135.0rgb1, ...]\n",
       "Index: []\n",
       "\n",
       "[0 rows x 423 columns]"
      ]
     },
     "execution_count": 11,
     "metadata": {},
     "output_type": "execute_result"
    }
   ],
   "source": [
    "# Check the features file is correctly loadedd\n",
    "df_train[df_train.name == 'name']"
   ]
  },
  {
   "cell_type": "code",
   "execution_count": 6,
   "metadata": {
    "id": "JcoXXWmuwxQZ"
   },
   "outputs": [],
   "source": [
    "# features_file = 'featuresCh1BTrain_nodup'\n",
    "features_file = features_file + '_PRUEBA_AFTER_SUBMISSION'"
   ]
  },
  {
   "cell_type": "code",
   "execution_count": 6,
   "metadata": {},
   "outputs": [],
   "source": [
    "features_file += '_sfm'"
   ]
  },
  {
   "cell_type": "code",
   "execution_count": 11,
   "metadata": {
    "colab": {
     "base_uri": "https://localhost:8080/"
    },
    "id": "DUfrHvyuzLMk",
    "outputId": "84e5de01-d02d-4389-8024-ab4dd43884e7"
   },
   "outputs": [
    {
     "data": {
      "text/plain": [
       "13447"
      ]
     },
     "execution_count": 11,
     "metadata": {},
     "output_type": "execute_result"
    }
   ],
   "source": [
    "df_train = df_train.dropna(axis=0)\n",
    "df_train = df_train.drop_duplicates()\n",
    "len(df_train)"
   ]
  },
  {
   "cell_type": "code",
   "execution_count": 10,
   "metadata": {
    "id": "JU5I-1PT0Vpy"
   },
   "outputs": [],
   "source": [
    "X = df_train.iloc[:,2:]\n",
    "y = df_train.label.values.astype(int)\n",
    "\n",
    "X_test = df_test.iloc[:, 2:]\n",
    "y_test = df_test.label.values.astype(int)"
   ]
  },
  {
   "cell_type": "markdown",
   "metadata": {},
   "source": [
    "## Imbalancing Strategies for Multi Class"
   ]
  },
  {
   "cell_type": "code",
   "execution_count": null,
   "metadata": {
    "colab": {
     "base_uri": "https://localhost:8080/"
    },
    "id": "ioPVzHZHymfh",
    "outputId": "58a22d75-5030-43be-f22e-26f61363a7a8"
   },
   "outputs": [],
   "source": [
    "from imblearn.over_sampling import SMOTE\n",
    "\n",
    "\n",
    "oversample = SMOTE()\n",
    "X_res, y_res = oversample.fit_resample(X, y)\n",
    "counter = Counter(y_res)\n",
    "print(counter)"
   ]
  },
  {
   "cell_type": "code",
   "execution_count": null,
   "metadata": {
    "colab": {
     "base_uri": "https://localhost:8080/"
    },
    "id": "JELEfJlVynrD",
    "outputId": "f46e4b4a-902f-4e74-8675-a0b5ed3bd278"
   },
   "outputs": [],
   "source": [
    "from imblearn.under_sampling import RandomUnderSampler \n",
    "\n",
    "rus = RandomUnderSampler(random_state=42)\n",
    "X_res, y_res = rus.fit_resample(X, y)\n",
    "counter = Counter(y_res)\n",
    "print(counter)"
   ]
  },
  {
   "cell_type": "code",
   "execution_count": null,
   "metadata": {
    "colab": {
     "base_uri": "https://localhost:8080/"
    },
    "id": "2kKQoyjFyrs4",
    "outputId": "25c39ae2-e84c-445e-e538-43cdba600c0a"
   },
   "outputs": [],
   "source": [
    "from imblearn.combine import SMOTEENN\n",
    "\n",
    "sme = SMOTEENN(random_state=42)\n",
    "X_res, y_res = sme.fit_resample(X, y)\n",
    "counter = Counter(y_res)\n",
    "print(counter)"
   ]
  },
  {
   "cell_type": "markdown",
   "metadata": {},
   "source": [
    "## Classification Results "
   ]
  },
  {
   "cell_type": "code",
   "execution_count": 12,
   "metadata": {
    "id": "KI72XdpM4i9V"
   },
   "outputs": [],
   "source": [
    "import os\n",
    "import cv2\n",
    "import random\n",
    "import cv2\n",
    "import numpy as np \n",
    "import pandas as pd\n",
    "import seaborn as sns\n",
    "import pickle\n",
    "import matplotlib.pyplot as plt\n",
    "from sklearn.decomposition import PCA\n",
    "from sklearn.model_selection import GridSearchCV\n",
    "from sklearn.metrics import classification_report\n",
    "from sklearn.metrics import confusion_matrix\n",
    "from sklearn.metrics import accuracy_score\n",
    "from sklearn.metrics import f1_score\n",
    "from sklearn.metrics import cohen_kappa_score\n",
    "\n",
    "def fit_report(pipe, X_train, y_train, X_test, y_test, pipelineName='', classifierName='', balancingType = ''):\n",
    "    \n",
    "    print(\"*****************************************************\")\n",
    "    \n",
    "    pipe.fit(X_train, y_train)\n",
    "\n",
    "    pred = pipe.predict(X_test) \n",
    "    \n",
    "    print(\" ### Report ###\")\n",
    "    print(classification_report(y_test, pred))\n",
    "    \n",
    "    print(\" ### score ###\")\n",
    "    print(pipe.score(X_test, y_test))\n",
    "\n",
    "    print(\" ### accuracy ###\")\n",
    "    acc = accuracy_score(y_test, pred)\n",
    "    print(acc)\n",
    "\n",
    "    print(\"### f1_score ###\")\n",
    "    f1 = f1_score(y_test, pred, average='weighted')\n",
    "    print(f1) # 1 is best\n",
    "\n",
    "    print(\"### kappa_score ###\")\n",
    "    kappa = cohen_kappa_score(y_test, pred)\n",
    "    print(kappa)\n",
    "    \n",
    "    print(\"### confusion matrix ###\")\n",
    "    print(confusion_matrix(y_test, pred)) # diagonal stronger\n",
    "    \n",
    "    df_cm = confusion_matrix(y_test, pred)\n",
    "    plt.figure(figsize=(5,5))\n",
    "    sns.heatmap(df_cm, annot=True, fmt='d') # font size\n",
    "    plt.savefig(os.path.join(RESULTS_DIR, f'confmat_{pipelineName}_{classifierName}_{balancingType}.png'), format='png')\n",
    "\n",
    "    # Save the final model with its respective fold\n",
    "    filename = f'model_{classifierName}_{pipelineName}_{balancingType}.pkl'\n",
    "    pickle.dump(pipe, open(os.path.join(RESULTS_DIR, filename), 'wb'))\n",
    "    print(f\"Model {pipelineName} of {classifierName} was saved!\")  \n",
    "    \n",
    "    print(\"%%%%%%%%%%%%%%%%%%%%%%%%%%%%%%%%%%%%%%%%%%%%%%%%%%%%%\")\n",
    "\n",
    "    return acc, f1, kappa\n"
   ]
  },
  {
   "cell_type": "code",
   "execution_count": 13,
   "metadata": {
    "colab": {
     "base_uri": "https://localhost:8080/"
    },
    "id": "kXSf1DyE7yNN",
    "outputId": "6e76bd8f-2ed7-439d-c1e7-2a32802b9dd7"
   },
   "outputs": [
    {
     "name": "stdout",
     "output_type": "stream",
     "text": [
      "Searching for best hyperparameters\n",
      "The best parameters for rf are {'criterion': 'gini', 'max_depth': 12, 'n_estimators': 900} with an accuracy of 0.7540\n",
      "### RF ###\n",
      "current pipeline\n",
      "Pipeline(steps=[('scale', StandardScaler()),\n",
      "                ('selector rfe',\n",
      "                 RFE(estimator=RandomForestClassifier(n_jobs=-1,\n",
      "                                                      random_state=42))),\n",
      "                ('clf',\n",
      "                 RandomForestClassifier(max_depth=12, n_estimators=900,\n",
      "                                        n_jobs=-1, random_state=42))])\n",
      "*****************************************************\n",
      " ### Report ###\n",
      "              precision    recall  f1-score   support\n",
      "\n",
      "           0       0.97      0.93      0.95      1492\n",
      "           1       0.93      0.97      0.95      1484\n",
      "\n",
      "    accuracy                           0.95      2976\n",
      "   macro avg       0.95      0.95      0.95      2976\n",
      "weighted avg       0.95      0.95      0.95      2976\n",
      "\n",
      " ### score ###\n",
      "0.9495967741935484\n",
      " ### accuracy ###\n",
      "0.9495967741935484\n",
      "### f1_score ###\n",
      "0.9495826342445393\n",
      "### kappa_score ###\n",
      "0.8992026532462888\n",
      "### confusion matrix ###\n",
      "[[1390  102]\n",
      " [  48 1436]]\n",
      "Model featuresCh1Train1D_PRUEBA_AFTER_SUBMISSION of rf was saved!\n",
      "%%%%%%%%%%%%%%%%%%%%%%%%%%%%%%%%%%%%%%%%%%%%%%%%%%%%%\n",
      "The best parameters for ab are {'learning_rate': 0.1, 'n_estimators': 900} with an accuracy of 0.7594\n",
      "### ADABOOST ###\n",
      "current pipeline\n",
      "Pipeline(steps=[('scale', StandardScaler()),\n",
      "                ('selector rfe',\n",
      "                 RFE(estimator=RandomForestClassifier(n_jobs=-1,\n",
      "                                                      random_state=42))),\n",
      "                ('clf',\n",
      "                 AdaBoostClassifier(learning_rate=0.1, n_estimators=900,\n",
      "                                    random_state=42))])\n",
      "*****************************************************\n",
      " ### Report ###\n",
      "              precision    recall  f1-score   support\n",
      "\n",
      "           0       0.80      0.75      0.78      1492\n",
      "           1       0.77      0.81      0.79      1484\n",
      "\n",
      "    accuracy                           0.78      2976\n",
      "   macro avg       0.78      0.78      0.78      2976\n",
      "weighted avg       0.78      0.78      0.78      2976\n",
      "\n",
      " ### score ###\n",
      "0.7836021505376344\n",
      " ### accuracy ###\n",
      "0.7836021505376344\n",
      "### f1_score ###\n",
      "0.7834131772847749\n",
      "### kappa_score ###\n",
      "0.5672730950970334\n",
      "### confusion matrix ###\n",
      "[[1124  368]\n",
      " [ 276 1208]]\n",
      "Model featuresCh1Train1D_PRUEBA_AFTER_SUBMISSION of adaboost was saved!\n",
      "%%%%%%%%%%%%%%%%%%%%%%%%%%%%%%%%%%%%%%%%%%%%%%%%%%%%%\n",
      "The best parameters for gb are {'learning_rate': 0.1, 'max_depth': 8, 'n_estimators': 300} with an accuracy of 0.7272\n",
      "### GRADBOOST ###\n",
      "current pipeline\n",
      "Pipeline(steps=[('scale', StandardScaler()),\n",
      "                ('selector rfe',\n",
      "                 RFE(estimator=RandomForestClassifier(n_jobs=-1,\n",
      "                                                      random_state=42))),\n",
      "                ('clf',\n",
      "                 GradientBoostingClassifier(max_depth=8, n_estimators=300,\n",
      "                                            random_state=42))])\n",
      "*****************************************************\n",
      " ### Report ###\n",
      "              precision    recall  f1-score   support\n",
      "\n",
      "           0       1.00      0.99      0.99      1492\n",
      "           1       0.99      1.00      0.99      1484\n",
      "\n",
      "    accuracy                           0.99      2976\n",
      "   macro avg       0.99      0.99      0.99      2976\n",
      "weighted avg       0.99      0.99      0.99      2976\n",
      "\n",
      " ### score ###\n",
      "0.9946236559139785\n",
      " ### accuracy ###\n",
      "0.9946236559139785\n",
      "### f1_score ###\n",
      "0.9946236437730643\n",
      "### kappa_score ###\n",
      "0.9892474283794184\n",
      "### confusion matrix ###\n",
      "[[1479   13]\n",
      " [   3 1481]]\n",
      "Model featuresCh1Train1D_PRUEBA_AFTER_SUBMISSION of gradboost was saved!\n",
      "%%%%%%%%%%%%%%%%%%%%%%%%%%%%%%%%%%%%%%%%%%%%%%%%%%%%%\n",
      "### HISTGRADBOOST ###\n",
      "current pipeline\n",
      "Pipeline(steps=[('scale', StandardScaler()),\n",
      "                ('selector rfe',\n",
      "                 RFE(estimator=RandomForestClassifier(n_jobs=-1,\n",
      "                                                      random_state=42))),\n",
      "                ('clf', HistGradientBoostingClassifier())])\n",
      "*****************************************************\n",
      " ### Report ###\n",
      "              precision    recall  f1-score   support\n",
      "\n",
      "           0       0.90      0.88      0.89      1492\n",
      "           1       0.88      0.90      0.89      1484\n",
      "\n",
      "    accuracy                           0.89      2976\n",
      "   macro avg       0.89      0.89      0.89      2976\n",
      "weighted avg       0.89      0.89      0.89      2976\n",
      "\n",
      " ### score ###\n",
      "0.8931451612903226\n",
      " ### accuracy ###\n",
      "0.8931451612903226\n",
      "### f1_score ###\n",
      "0.8931344949913106\n",
      "### kappa_score ###\n",
      "0.7863019043799655\n",
      "### confusion matrix ###\n",
      "[[1316  176]\n",
      " [ 142 1342]]\n",
      "Model featuresCh1Train1D_PRUEBA_AFTER_SUBMISSION of histgradboost was saved!\n",
      "%%%%%%%%%%%%%%%%%%%%%%%%%%%%%%%%%%%%%%%%%%%%%%%%%%%%%\n",
      "### KNN ###\n",
      "current pipeline\n",
      "Pipeline(steps=[('scale', StandardScaler()),\n",
      "                ('selector rfe',\n",
      "                 RFE(estimator=RandomForestClassifier(n_jobs=-1,\n",
      "                                                      random_state=42))),\n",
      "                ('clf', KNeighborsClassifier())])\n",
      "*****************************************************\n",
      " ### Report ###\n",
      "              precision    recall  f1-score   support\n",
      "\n",
      "           0       0.87      0.82      0.85      1492\n",
      "           1       0.83      0.88      0.85      1484\n",
      "\n",
      "    accuracy                           0.85      2976\n",
      "   macro avg       0.85      0.85      0.85      2976\n",
      "weighted avg       0.85      0.85      0.85      2976\n",
      "\n",
      " ### score ###\n",
      "0.8501344086021505\n",
      " ### accuracy ###\n",
      "0.8501344086021505\n",
      "### f1_score ###\n",
      "0.8500419666590617\n",
      "### kappa_score ###\n",
      "0.7003088817037264\n",
      "### confusion matrix ###\n",
      "[[1230  262]\n",
      " [ 184 1300]]\n",
      "Model featuresCh1Train1D_PRUEBA_AFTER_SUBMISSION of knn was saved!\n",
      "%%%%%%%%%%%%%%%%%%%%%%%%%%%%%%%%%%%%%%%%%%%%%%%%%%%%%\n",
      "### LDA ###\n",
      "current pipeline\n",
      "Pipeline(steps=[('scale', StandardScaler()),\n",
      "                ('selector rfe',\n",
      "                 RFE(estimator=RandomForestClassifier(n_jobs=-1,\n",
      "                                                      random_state=42))),\n",
      "                ('clf', LinearDiscriminantAnalysis())])\n",
      "*****************************************************\n",
      " ### Report ###\n",
      "              precision    recall  f1-score   support\n",
      "\n",
      "           0       0.79      0.75      0.77      1492\n",
      "           1       0.76      0.80      0.78      1484\n",
      "\n",
      "    accuracy                           0.78      2976\n",
      "   macro avg       0.78      0.78      0.78      2976\n",
      "weighted avg       0.78      0.78      0.78      2976\n",
      "\n",
      " ### score ###\n",
      "0.7772177419354839\n",
      " ### accuracy ###\n",
      "0.7772177419354839\n",
      "### f1_score ###\n",
      "0.7770689141497565\n",
      "### kappa_score ###\n",
      "0.5544974558039641\n",
      "### confusion matrix ###\n",
      "[[1120  372]\n",
      " [ 291 1193]]\n",
      "Model featuresCh1Train1D_PRUEBA_AFTER_SUBMISSION of lda was saved!\n",
      "%%%%%%%%%%%%%%%%%%%%%%%%%%%%%%%%%%%%%%%%%%%%%%%%%%%%%\n"
     ]
    },
    {
     "name": "stderr",
     "output_type": "stream",
     "text": [
      "C:\\Users\\Dell\\anaconda3\\lib\\site-packages\\sklearn\\neural_network\\_multilayer_perceptron.py:696: ConvergenceWarning: Stochastic Optimizer: Maximum iterations (150) reached and the optimization hasn't converged yet.\n",
      "  ConvergenceWarning,\n"
     ]
    },
    {
     "name": "stdout",
     "output_type": "stream",
     "text": [
      "The best parameters for mlp are {'activation': 'tanh', 'alpha': 0.0001, 'hidden_layer_sizes': (50, 20), 'learning_rate': 'constant', 'solver': 'adam'} with an accuracy of 0.6801\n",
      "### MLP ###\n",
      "current pipeline\n",
      "Pipeline(steps=[('scale', StandardScaler()),\n",
      "                ('selector rfe',\n",
      "                 RFE(estimator=RandomForestClassifier(n_jobs=-1,\n",
      "                                                      random_state=42))),\n",
      "                ('clf',\n",
      "                 MLPClassifier(activation='tanh', hidden_layer_sizes=(50, 20),\n",
      "                               max_iter=150, random_state=1))])\n",
      "*****************************************************\n"
     ]
    },
    {
     "name": "stderr",
     "output_type": "stream",
     "text": [
      "C:\\Users\\Dell\\anaconda3\\lib\\site-packages\\sklearn\\neural_network\\_multilayer_perceptron.py:696: ConvergenceWarning: Stochastic Optimizer: Maximum iterations (150) reached and the optimization hasn't converged yet.\n",
      "  ConvergenceWarning,\n"
     ]
    },
    {
     "name": "stdout",
     "output_type": "stream",
     "text": [
      " ### Report ###\n",
      "              precision    recall  f1-score   support\n",
      "\n",
      "           0       0.95      0.96      0.95      1492\n",
      "           1       0.96      0.95      0.95      1484\n",
      "\n",
      "    accuracy                           0.95      2976\n",
      "   macro avg       0.95      0.95      0.95      2976\n",
      "weighted avg       0.95      0.95      0.95      2976\n",
      "\n",
      " ### score ###\n",
      "0.9529569892473119\n",
      " ### accuracy ###\n",
      "0.9529569892473119\n",
      "### f1_score ###\n",
      "0.9529534832036064\n",
      "### kappa_score ###\n",
      "0.905909558996224\n",
      "### confusion matrix ###\n",
      "[[1433   59]\n",
      " [  81 1403]]\n",
      "Model featuresCh1Train1D_PRUEBA_AFTER_SUBMISSION of mlp was saved!\n",
      "%%%%%%%%%%%%%%%%%%%%%%%%%%%%%%%%%%%%%%%%%%%%%%%%%%%%%\n",
      "The best parameters for xgb are {'learning_rate': 0.1, 'max_depth': 4, 'n_estimators': 180} with an accuracy of 0.7688\n",
      "### XGBOOST ###\n",
      "current pipeline\n",
      "Pipeline(steps=[('scale', StandardScaler()),\n",
      "                ('selector rfe',\n",
      "                 RFE(estimator=RandomForestClassifier(n_jobs=-1,\n",
      "                                                      random_state=42))),\n",
      "                ('clf',\n",
      "                 XGBClassifier(max_depth=4, n_estimators=180, nthread=4,\n",
      "                               seed=42))])\n",
      "*****************************************************\n",
      " ### Report ###\n",
      "              precision    recall  f1-score   support\n",
      "\n",
      "           0       0.87      0.85      0.86      1492\n",
      "           1       0.85      0.88      0.86      1484\n",
      "\n",
      "    accuracy                           0.86      2976\n",
      "   macro avg       0.86      0.86      0.86      2976\n",
      "weighted avg       0.86      0.86      0.86      2976\n",
      "\n",
      " ### score ###\n",
      "0.8622311827956989\n",
      " ### accuracy ###\n",
      "0.8622311827956989\n",
      "### f1_score ###\n",
      "0.8622039872787407\n",
      "### kappa_score ###\n",
      "0.7244832706502065\n",
      "### confusion matrix ###\n",
      "[[1264  228]\n",
      " [ 182 1302]]\n",
      "Model featuresCh1Train1D_PRUEBA_AFTER_SUBMISSION of xgboost was saved!\n",
      "%%%%%%%%%%%%%%%%%%%%%%%%%%%%%%%%%%%%%%%%%%%%%%%%%%%%%\n"
     ]
    },
    {
     "data": {
      "image/png": "[encoded data removed]",
      "text/plain": [
       "<Figure size 360x360 with 2 Axes>"
      ]
     },
     "metadata": {
      "needs_background": "light"
     },
     "output_type": "display_data"
    },
    {
     "data": {
      "image/png": "[encoded data removed]",
      "text/plain": [
       "<Figure size 360x360 with 2 Axes>"
      ]
     },
     "metadata": {
      "needs_background": "light"
     },
     "output_type": "display_data"
    },
    {
     "data": {
      "image/png": "[encoded data removed]",
      "text/plain": [
       "<Figure size 360x360 with 2 Axes>"
      ]
     },
     "metadata": {
      "needs_background": "light"
     },
     "output_type": "display_data"
    },
    {
     "data": {
      "image/png": "[encoded data removed]",
      "text/plain": [
       "<Figure size 360x360 with 2 Axes>"
      ]
     },
     "metadata": {
      "needs_background": "light"
     },
     "output_type": "display_data"
    },
    {
     "data": {
      "image/png": "[encoded data removed]",
      "text/plain": [
       "<Figure size 360x360 with 2 Axes>"
      ]
     },
     "metadata": {
      "needs_background": "light"
     },
     "output_type": "display_data"
    },
    {
     "data": {
      "image/png": "[encoded data removed]",
      "text/plain": [
       "<Figure size 360x360 with 2 Axes>"
      ]
     },
     "metadata": {
      "needs_background": "light"
     },
     "output_type": "display_data"
    },
    {
     "data": {
      "image/png": "[encoded data removed]",
      "text/plain": [
       "<Figure size 360x360 with 2 Axes>"
      ]
     },
     "metadata": {
      "needs_background": "light"
     },
     "output_type": "display_data"
    },
    {
     "data": {
      "image/png": "[encoded data removed]",
      "text/plain": [
       "<Figure size 360x360 with 2 Axes>"
      ]
     },
     "metadata": {
      "needs_background": "light"
     },
     "output_type": "display_data"
    }
   ],
   "source": [
    "import os\n",
    "import library\n",
    "import pandas as pd\n",
    "from sklearn import tree\n",
    "from sklearn.pipeline import Pipeline\n",
    "import pickle\n",
    "\n",
    "from sklearn.preprocessing import StandardScaler\n",
    "from sklearn.ensemble import RandomForestClassifier\n",
    "from sklearn.model_selection import train_test_split\n",
    "from sklearn.feature_selection import RFE\n",
    "from sklearn.feature_selection import SelectFromModel\n",
    "from sklearn.ensemble import HistGradientBoostingClassifier\n",
    "from sklearn.feature_selection import SequentialFeatureSelector\n",
    "from sklearn.discriminant_analysis import LinearDiscriminantAnalysis\n",
    "from sklearn.feature_selection import SelectKBest, f_classif, chi2, mutual_info_classif    \n",
    "\n",
    "classifiers = [  \"rf\", \"adaboost\", \"gradboost\", \"histgradboost\", \"knn\", \"lda\", \"mlp\", 'xgboost']\n",
    "\n",
    "X_test, X_val, y_test, y_val = train_test_split(X_test, y_test, test_size=0.2, random_state=1)\n",
    "\n",
    "balancingType = ''\n",
    "\n",
    "accs = []\n",
    "f1_scores = []\n",
    "kappas = []\n",
    "\n",
    "for classifier in classifiers:\n",
    "    \n",
    "    # preprocessing options\n",
    "    #('selectFromModel', SelectFromModel(RandomForestClassifier(random_state=42, n_jobs = -1)))\n",
    "    #('selector rfe', RFE(RandomForestClassifier(random_state=42, n_jobs = -1))),\n",
    "    #('reduce_dims', PCA(0.8)),\n",
    "    #('mutual_info_classif, SelectKBest(mutual_info_classif, k=100)),\n",
    "    \n",
    "    # preprocessing steps\n",
    "    pipe = [('scale', StandardScaler()),\n",
    "            ('selector rfe', RFE(RandomForestClassifier(random_state=42, n_jobs = -1)))\n",
    "           ]\n",
    "\n",
    "    if classifier == \"svm\":\n",
    "        clf, best_params = library.SVC_linear(X_val, y_val, cv=2)\n",
    "        clf.set_params(**best_params)\n",
    "        print(\"### SVM ###\")\n",
    "    \n",
    "    elif classifier == \"rf\":\n",
    "        clf, best_params = library.RandomForest(X_val, y_val, cv=2)\n",
    "        clf.set_params(**best_params)\n",
    "        print(\"### RF ###\")\n",
    "    \n",
    "    elif classifier == \"tree\":\n",
    "        clf = tree.DecisionTreeClassifier()\n",
    "        print(\"### TREE ###\")\n",
    "    \n",
    "    elif classifier == \"adaboost\":\n",
    "        clf, best_params = library.AdaBoost(X_val, y_val)\n",
    "        clf.set_params(**best_params)\n",
    "        print(\"### ADABOOST ###\")\n",
    "    \n",
    "    elif classifier == \"gradboost\":\n",
    "        clf, best_params = library.GradientBoosting(X_val, y_val)\n",
    "        clf.set_params(**best_params)\n",
    "        print(\"### GRADBOOST ###\")\n",
    "    \n",
    "    elif classifier == \"knn\":\n",
    "        clf, best_params = library.knn(X_val, y_val)\n",
    "        clf.set_params(**best_params)\n",
    "        print(\"### KNN ###\")\n",
    "        \n",
    "    elif classifier == \"histgradboost\":\n",
    "        clf = HistGradientBoostingClassifier()\n",
    "        print(\"### HISTGRADBOOST ###\")\n",
    "        \n",
    "    elif classifier == \"lda\":\n",
    "        clf = LinearDiscriminantAnalysis()\n",
    "        print(\"### LDA ###\")\n",
    "\n",
    "    elif classifier == \"xgboost\":\n",
    "        clf, best_params = library.xgboost_clf(X_val.astype('float'), y_val)\n",
    "        clf.set_params(**best_params)\n",
    "        print(\"### XGBOOST ###\")        \n",
    "    \n",
    "    elif classifier == \"mlp\":\n",
    "        clf, best_params = library.mlp_classifier(X_val, y_val)\n",
    "        clf.set_params(**best_params)\n",
    "        print(\"### MLP ###\")        \n",
    "\n",
    "\n",
    "    # add classifier \n",
    "    pipe.append(tuple(('clf', clf)))\n",
    "    \n",
    "    steps = Pipeline(pipe)\n",
    "    \n",
    "    # pipeline shape\n",
    "    print(\"current pipeline\")\n",
    "    print(steps)\n",
    "    \n",
    "    acc, f1, kappa = fit_report(steps, X, y, X_test, y_test, features_file, classifier, balancingType)\n",
    "    accs.append(acc)\n",
    "    f1_scores.append(f1)\n",
    "    kappas.append(kappa)"
   ]
  },
  {
   "cell_type": "code",
   "execution_count": null,
   "metadata": {
    "colab": {
     "base_uri": "https://localhost:8080/"
    },
    "id": "kXSf1DyE7yNN",
    "outputId": "6e76bd8f-2ed7-439d-c1e7-2a32802b9dd7",
    "scrolled": true
   },
   "outputs": [],
   "source": [
    "df_results = pd.DataFrame({'Classifier': classifiers, 'Accuracy': accs, 'F1-score': f1_scores, 'Kappa-score': kappas})\n",
    "df_results.to_csv(os.path.join(RESULTS_DIR, f'Results_{features_file}_{balancingType}.csv'), mode='a', index=False)"
   ]
  },
  {
   "cell_type": "code",
   "execution_count": null,
   "metadata": {
    "id": "rQV0cLcdlsrl"
   },
   "outputs": [],
   "source": []
  }
 ],
 "metadata": {
  "colab": {
   "collapsed_sections": [],
   "provenance": []
  },
  "kernelspec": {
   "display_name": "Python 3 (ipykernel)",
   "language": "python",
   "name": "python3"
  },
  "language_info": {
   "codemirror_mode": {
    "name": "ipython",
    "version": 3
   },
   "file_extension": ".py",
   "mimetype": "text/x-python",
   "name": "python",
   "nbconvert_exporter": "python",
   "pygments_lexer": "ipython3",
   "version": "3.10.6"
  }
 },
 "nbformat": 4,
 "nbformat_minor": 1
}
